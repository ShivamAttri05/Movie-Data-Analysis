{
 "cells": [
  {
   "cell_type": "code",
   "execution_count": 1,
   "id": "293be6b3",
   "metadata": {},
   "outputs": [],
   "source": [
    "import numpy as np\n",
    "import pandas as pd\n",
    "import matplotlib.pyplot as plt\n",
    "import seaborn as sbn"
   ]
  },
  {
   "cell_type": "code",
   "execution_count": 2,
   "id": "607a222d",
   "metadata": {},
   "outputs": [
    {
     "data": {
      "application/vnd.microsoft.datawrangler.viewer.v0+json": {
       "columns": [
        {
         "name": "index",
         "rawType": "int64",
         "type": "integer"
        },
        {
         "name": "Year",
         "rawType": "int64",
         "type": "integer"
        },
        {
         "name": "Film",
         "rawType": "object",
         "type": "string"
        },
        {
         "name": "Publisher",
         "rawType": "object",
         "type": "string"
        },
        {
         "name": "Director",
         "rawType": "object",
         "type": "string"
        },
        {
         "name": "Distributor",
         "rawType": "object",
         "type": "string"
        },
        {
         "name": "Worldwide_Gross",
         "rawType": "object",
         "type": "unknown"
        },
        {
         "name": "Description",
         "rawType": "object",
         "type": "string"
        }
       ],
       "ref": "90a486b9-fe65-4042-8960-245e4e6480a0",
       "rows": [
        [
         "0",
         "1937",
         "The Shadow Strikes",
         "Street & Smith",
         "Lynn Shores",
         "Grand National Films Inc.",
         null,
         "Film featuring The Shadow character."
        ],
        [
         "1",
         "1938",
         "International Crime",
         "Street & Smith",
         "Charles Lamont",
         "Grand National Films Inc.",
         null,
         "Film featuring The Shadow character."
        ],
        [
         "2",
         "1945",
         "Dick Tracy",
         "Detroit Mirror",
         "William Berke",
         "RKO Pictures",
         null,
         "Film featuring the character Dick Tracy."
        ],
        [
         "3",
         "1946",
         "The Shadow Returns'",
         "Street & Smith",
         "Phil Rosen, William Beaudine",
         "Monogram Pictures",
         null,
         "Part of The Shadow franchise."
        ],
        [
         "4",
         "1946",
         "Behind the Mask'",
         "Street & Smith",
         "Phil Karlson",
         "Monogram Pictures",
         null,
         "Film featuring The Shadow character."
        ]
       ],
       "shape": {
        "columns": 7,
        "rows": 5
       }
      },
      "text/html": [
       "<div>\n",
       "<style scoped>\n",
       "    .dataframe tbody tr th:only-of-type {\n",
       "        vertical-align: middle;\n",
       "    }\n",
       "\n",
       "    .dataframe tbody tr th {\n",
       "        vertical-align: top;\n",
       "    }\n",
       "\n",
       "    .dataframe thead th {\n",
       "        text-align: right;\n",
       "    }\n",
       "</style>\n",
       "<table border=\"1\" class=\"dataframe\">\n",
       "  <thead>\n",
       "    <tr style=\"text-align: right;\">\n",
       "      <th></th>\n",
       "      <th>Year</th>\n",
       "      <th>Film</th>\n",
       "      <th>Publisher</th>\n",
       "      <th>Director</th>\n",
       "      <th>Distributor</th>\n",
       "      <th>Worldwide_Gross</th>\n",
       "      <th>Description</th>\n",
       "    </tr>\n",
       "  </thead>\n",
       "  <tbody>\n",
       "    <tr>\n",
       "      <th>0</th>\n",
       "      <td>1937</td>\n",
       "      <td>The Shadow Strikes</td>\n",
       "      <td>Street &amp; Smith</td>\n",
       "      <td>Lynn Shores</td>\n",
       "      <td>Grand National Films Inc.</td>\n",
       "      <td>NaN</td>\n",
       "      <td>Film featuring The Shadow character.</td>\n",
       "    </tr>\n",
       "    <tr>\n",
       "      <th>1</th>\n",
       "      <td>1938</td>\n",
       "      <td>International Crime</td>\n",
       "      <td>Street &amp; Smith</td>\n",
       "      <td>Charles Lamont</td>\n",
       "      <td>Grand National Films Inc.</td>\n",
       "      <td>NaN</td>\n",
       "      <td>Film featuring The Shadow character.</td>\n",
       "    </tr>\n",
       "    <tr>\n",
       "      <th>2</th>\n",
       "      <td>1945</td>\n",
       "      <td>Dick Tracy</td>\n",
       "      <td>Detroit Mirror</td>\n",
       "      <td>William Berke</td>\n",
       "      <td>RKO Pictures</td>\n",
       "      <td>NaN</td>\n",
       "      <td>Film featuring the character Dick Tracy.</td>\n",
       "    </tr>\n",
       "    <tr>\n",
       "      <th>3</th>\n",
       "      <td>1946</td>\n",
       "      <td>The Shadow Returns'</td>\n",
       "      <td>Street &amp; Smith</td>\n",
       "      <td>Phil Rosen, William Beaudine</td>\n",
       "      <td>Monogram Pictures</td>\n",
       "      <td>NaN</td>\n",
       "      <td>Part of The Shadow franchise.</td>\n",
       "    </tr>\n",
       "    <tr>\n",
       "      <th>4</th>\n",
       "      <td>1946</td>\n",
       "      <td>Behind the Mask'</td>\n",
       "      <td>Street &amp; Smith</td>\n",
       "      <td>Phil Karlson</td>\n",
       "      <td>Monogram Pictures</td>\n",
       "      <td>NaN</td>\n",
       "      <td>Film featuring The Shadow character.</td>\n",
       "    </tr>\n",
       "  </tbody>\n",
       "</table>\n",
       "</div>"
      ],
      "text/plain": [
       "   Year                 Film       Publisher                      Director  \\\n",
       "0  1937   The Shadow Strikes  Street & Smith                   Lynn Shores   \n",
       "1  1938  International Crime  Street & Smith                Charles Lamont   \n",
       "2  1945           Dick Tracy  Detroit Mirror                 William Berke   \n",
       "3  1946  The Shadow Returns'  Street & Smith  Phil Rosen, William Beaudine   \n",
       "4  1946     Behind the Mask'  Street & Smith                  Phil Karlson   \n",
       "\n",
       "                 Distributor Worldwide_Gross  \\\n",
       "0  Grand National Films Inc.             NaN   \n",
       "1  Grand National Films Inc.             NaN   \n",
       "2               RKO Pictures             NaN   \n",
       "3          Monogram Pictures             NaN   \n",
       "4          Monogram Pictures             NaN   \n",
       "\n",
       "                                Description  \n",
       "0      Film featuring The Shadow character.  \n",
       "1      Film featuring The Shadow character.  \n",
       "2  Film featuring the character Dick Tracy.  \n",
       "3             Part of The Shadow franchise.  \n",
       "4      Film featuring The Shadow character.  "
      ]
     },
     "execution_count": 2,
     "metadata": {},
     "output_type": "execute_result"
    }
   ],
   "source": [
    "df = pd.read_csv(\"superhero_movies_dataset.csv\")\n",
    "df.head(5)"
   ]
  },
  {
   "cell_type": "code",
   "execution_count": 3,
   "id": "8058d887",
   "metadata": {},
   "outputs": [
    {
     "data": {
      "application/vnd.microsoft.datawrangler.viewer.v0+json": {
       "columns": [
        {
         "name": "index",
         "rawType": "object",
         "type": "string"
        },
        {
         "name": "0",
         "rawType": "int64",
         "type": "integer"
        }
       ],
       "ref": "9feea43d-c930-434a-b379-cf8c311f08b7",
       "rows": [
        [
         "Year",
         "0"
        ],
        [
         "Film",
         "0"
        ],
        [
         "Publisher",
         "0"
        ],
        [
         "Director",
         "0"
        ],
        [
         "Distributor",
         "0"
        ],
        [
         "Worldwide_Gross",
         "128"
        ],
        [
         "Description",
         "112"
        ]
       ],
       "shape": {
        "columns": 1,
        "rows": 7
       }
      },
      "text/plain": [
       "Year                 0\n",
       "Film                 0\n",
       "Publisher            0\n",
       "Director             0\n",
       "Distributor          0\n",
       "Worldwide_Gross    128\n",
       "Description        112\n",
       "dtype: int64"
      ]
     },
     "execution_count": 3,
     "metadata": {},
     "output_type": "execute_result"
    }
   ],
   "source": [
    "df.isnull().sum()"
   ]
  },
  {
   "cell_type": "code",
   "execution_count": 4,
   "id": "5993a94e",
   "metadata": {},
   "outputs": [
    {
     "data": {
      "application/vnd.microsoft.datawrangler.viewer.v0+json": {
       "columns": [
        {
         "name": "index",
         "rawType": "int64",
         "type": "integer"
        },
        {
         "name": "Year",
         "rawType": "int64",
         "type": "integer"
        },
        {
         "name": "Film",
         "rawType": "object",
         "type": "string"
        },
        {
         "name": "Publisher",
         "rawType": "object",
         "type": "string"
        },
        {
         "name": "Director",
         "rawType": "object",
         "type": "string"
        },
        {
         "name": "Distributor",
         "rawType": "object",
         "type": "string"
        },
        {
         "name": "Worldwide_Gross",
         "rawType": "object",
         "type": "unknown"
        },
        {
         "name": "Description",
         "rawType": "object",
         "type": "unknown"
        }
       ],
       "ref": "8ebcae58-f774-41bc-94b3-ab00cea49d49",
       "rows": [
        [
         "402",
         "2024",
         "Borderlands",
         "Gearbox Software",
         "Eli Roth",
         "Lionsgate Films (Summit Entertainment)",
         "Theatrical ($32,687,932)",
         "Based on a video game of the same name"
        ],
        [
         "403",
         "2024",
         "The Crow",
         "Caliber Comics",
         "Rupert Sanders",
         "Lionsgate Films",
         "Theatrical ($21,105,349)",
         "Reboot of the same name Co-produced with Media Capital Technologies, FilmNation Entertainment, Hassell Free Productions, Electric Shadow Co, Davis Films, Pressman Film, 30West and Ashland Hill Media Finance."
        ],
        [
         "404",
         "2024",
         "Sonic the Hedgehog 3",
         "Sega Sammy Group",
         "Jeff Fowler",
         "Paramount Pictures",
         "Theatrical ($491,603,986)",
         "Hybrid film with both live-action and animation Sequel to Sonic the Hedgehog 2 Co-produced with Sega & Original Film"
        ],
        [
         "405",
         "2025",
         "Henry Danger: The Movie",
         "Original",
         "Joe Menendez",
         "Paramount Pictures (Paramount+)",
         null,
         "Continuation of the television series Henry Danger."
        ],
        [
         "406",
         "2025",
         "Novocaine",
         "Original",
         "Dan Berk and Robert Olsen",
         "Paramount Pictures",
         "Theatrical ($11,349,008)",
         null
        ]
       ],
       "shape": {
        "columns": 7,
        "rows": 5
       }
      },
      "text/html": [
       "<div>\n",
       "<style scoped>\n",
       "    .dataframe tbody tr th:only-of-type {\n",
       "        vertical-align: middle;\n",
       "    }\n",
       "\n",
       "    .dataframe tbody tr th {\n",
       "        vertical-align: top;\n",
       "    }\n",
       "\n",
       "    .dataframe thead th {\n",
       "        text-align: right;\n",
       "    }\n",
       "</style>\n",
       "<table border=\"1\" class=\"dataframe\">\n",
       "  <thead>\n",
       "    <tr style=\"text-align: right;\">\n",
       "      <th></th>\n",
       "      <th>Year</th>\n",
       "      <th>Film</th>\n",
       "      <th>Publisher</th>\n",
       "      <th>Director</th>\n",
       "      <th>Distributor</th>\n",
       "      <th>Worldwide_Gross</th>\n",
       "      <th>Description</th>\n",
       "    </tr>\n",
       "  </thead>\n",
       "  <tbody>\n",
       "    <tr>\n",
       "      <th>402</th>\n",
       "      <td>2024</td>\n",
       "      <td>Borderlands</td>\n",
       "      <td>Gearbox Software</td>\n",
       "      <td>Eli Roth</td>\n",
       "      <td>Lionsgate Films (Summit Entertainment)</td>\n",
       "      <td>Theatrical ($32,687,932)</td>\n",
       "      <td>Based on a video game of the same name</td>\n",
       "    </tr>\n",
       "    <tr>\n",
       "      <th>403</th>\n",
       "      <td>2024</td>\n",
       "      <td>The Crow</td>\n",
       "      <td>Caliber Comics</td>\n",
       "      <td>Rupert Sanders</td>\n",
       "      <td>Lionsgate Films</td>\n",
       "      <td>Theatrical ($21,105,349)</td>\n",
       "      <td>Reboot of the same name Co-produced with Media...</td>\n",
       "    </tr>\n",
       "    <tr>\n",
       "      <th>404</th>\n",
       "      <td>2024</td>\n",
       "      <td>Sonic the Hedgehog 3</td>\n",
       "      <td>Sega Sammy Group</td>\n",
       "      <td>Jeff Fowler</td>\n",
       "      <td>Paramount Pictures</td>\n",
       "      <td>Theatrical ($491,603,986)</td>\n",
       "      <td>Hybrid film with both live-action and animatio...</td>\n",
       "    </tr>\n",
       "    <tr>\n",
       "      <th>405</th>\n",
       "      <td>2025</td>\n",
       "      <td>Henry Danger: The Movie</td>\n",
       "      <td>Original</td>\n",
       "      <td>Joe Menendez</td>\n",
       "      <td>Paramount Pictures (Paramount+)</td>\n",
       "      <td>NaN</td>\n",
       "      <td>Continuation of the television series Henry Da...</td>\n",
       "    </tr>\n",
       "    <tr>\n",
       "      <th>406</th>\n",
       "      <td>2025</td>\n",
       "      <td>Novocaine</td>\n",
       "      <td>Original</td>\n",
       "      <td>Dan Berk and Robert Olsen</td>\n",
       "      <td>Paramount Pictures</td>\n",
       "      <td>Theatrical ($11,349,008)</td>\n",
       "      <td>NaN</td>\n",
       "    </tr>\n",
       "  </tbody>\n",
       "</table>\n",
       "</div>"
      ],
      "text/plain": [
       "     Year                     Film         Publisher  \\\n",
       "402  2024              Borderlands  Gearbox Software   \n",
       "403  2024                 The Crow    Caliber Comics   \n",
       "404  2024     Sonic the Hedgehog 3  Sega Sammy Group   \n",
       "405  2025  Henry Danger: The Movie          Original   \n",
       "406  2025                Novocaine          Original   \n",
       "\n",
       "                      Director                             Distributor  \\\n",
       "402                   Eli Roth  Lionsgate Films (Summit Entertainment)   \n",
       "403             Rupert Sanders                         Lionsgate Films   \n",
       "404                Jeff Fowler                      Paramount Pictures   \n",
       "405               Joe Menendez         Paramount Pictures (Paramount+)   \n",
       "406  Dan Berk and Robert Olsen                      Paramount Pictures   \n",
       "\n",
       "               Worldwide_Gross  \\\n",
       "402   Theatrical ($32,687,932)   \n",
       "403   Theatrical ($21,105,349)   \n",
       "404  Theatrical ($491,603,986)   \n",
       "405                        NaN   \n",
       "406   Theatrical ($11,349,008)   \n",
       "\n",
       "                                           Description  \n",
       "402             Based on a video game of the same name  \n",
       "403  Reboot of the same name Co-produced with Media...  \n",
       "404  Hybrid film with both live-action and animatio...  \n",
       "405  Continuation of the television series Henry Da...  \n",
       "406                                                NaN  "
      ]
     },
     "execution_count": 4,
     "metadata": {},
     "output_type": "execute_result"
    }
   ],
   "source": [
    "df.tail(5)"
   ]
  },
  {
   "cell_type": "code",
   "execution_count": 5,
   "id": "5caf3b6b",
   "metadata": {},
   "outputs": [
    {
     "data": {
      "application/vnd.microsoft.datawrangler.viewer.v0+json": {
       "columns": [
        {
         "name": "index",
         "rawType": "object",
         "type": "string"
        },
        {
         "name": "0",
         "rawType": "object",
         "type": "unknown"
        }
       ],
       "ref": "9b47f59a-8bc0-4442-b820-f0a18c85ac9f",
       "rows": [
        [
         "Year",
         "int64"
        ],
        [
         "Film",
         "object"
        ],
        [
         "Publisher",
         "object"
        ],
        [
         "Director",
         "object"
        ],
        [
         "Distributor",
         "object"
        ],
        [
         "Worldwide_Gross",
         "object"
        ],
        [
         "Description",
         "object"
        ]
       ],
       "shape": {
        "columns": 1,
        "rows": 7
       }
      },
      "text/plain": [
       "Year                int64\n",
       "Film               object\n",
       "Publisher          object\n",
       "Director           object\n",
       "Distributor        object\n",
       "Worldwide_Gross    object\n",
       "Description        object\n",
       "dtype: object"
      ]
     },
     "execution_count": 5,
     "metadata": {},
     "output_type": "execute_result"
    }
   ],
   "source": [
    "df.dtypes"
   ]
  },
  {
   "cell_type": "code",
   "execution_count": 6,
   "id": "09126c2b",
   "metadata": {},
   "outputs": [
    {
     "data": {
      "application/vnd.microsoft.datawrangler.viewer.v0+json": {
       "columns": [
        {
         "name": "index",
         "rawType": "object",
         "type": "string"
        },
        {
         "name": "Year",
         "rawType": "float64",
         "type": "float"
        }
       ],
       "ref": "4cfbdbcc-82ac-476e-b02e-29d7a26d6c80",
       "rows": [
        [
         "count",
         "407.0"
        ],
        [
         "mean",
         "2002.3685503685504"
        ],
        [
         "std",
         "16.081896121687958"
        ],
        [
         "min",
         "1937.0"
        ],
        [
         "25%",
         "1994.0"
        ],
        [
         "50%",
         "2005.0"
        ],
        [
         "75%",
         "2014.0"
        ],
        [
         "max",
         "2025.0"
        ]
       ],
       "shape": {
        "columns": 1,
        "rows": 8
       }
      },
      "text/html": [
       "<div>\n",
       "<style scoped>\n",
       "    .dataframe tbody tr th:only-of-type {\n",
       "        vertical-align: middle;\n",
       "    }\n",
       "\n",
       "    .dataframe tbody tr th {\n",
       "        vertical-align: top;\n",
       "    }\n",
       "\n",
       "    .dataframe thead th {\n",
       "        text-align: right;\n",
       "    }\n",
       "</style>\n",
       "<table border=\"1\" class=\"dataframe\">\n",
       "  <thead>\n",
       "    <tr style=\"text-align: right;\">\n",
       "      <th></th>\n",
       "      <th>Year</th>\n",
       "    </tr>\n",
       "  </thead>\n",
       "  <tbody>\n",
       "    <tr>\n",
       "      <th>count</th>\n",
       "      <td>407.000000</td>\n",
       "    </tr>\n",
       "    <tr>\n",
       "      <th>mean</th>\n",
       "      <td>2002.368550</td>\n",
       "    </tr>\n",
       "    <tr>\n",
       "      <th>std</th>\n",
       "      <td>16.081896</td>\n",
       "    </tr>\n",
       "    <tr>\n",
       "      <th>min</th>\n",
       "      <td>1937.000000</td>\n",
       "    </tr>\n",
       "    <tr>\n",
       "      <th>25%</th>\n",
       "      <td>1994.000000</td>\n",
       "    </tr>\n",
       "    <tr>\n",
       "      <th>50%</th>\n",
       "      <td>2005.000000</td>\n",
       "    </tr>\n",
       "    <tr>\n",
       "      <th>75%</th>\n",
       "      <td>2014.000000</td>\n",
       "    </tr>\n",
       "    <tr>\n",
       "      <th>max</th>\n",
       "      <td>2025.000000</td>\n",
       "    </tr>\n",
       "  </tbody>\n",
       "</table>\n",
       "</div>"
      ],
      "text/plain": [
       "              Year\n",
       "count   407.000000\n",
       "mean   2002.368550\n",
       "std      16.081896\n",
       "min    1937.000000\n",
       "25%    1994.000000\n",
       "50%    2005.000000\n",
       "75%    2014.000000\n",
       "max    2025.000000"
      ]
     },
     "execution_count": 6,
     "metadata": {},
     "output_type": "execute_result"
    }
   ],
   "source": [
    "df.describe()"
   ]
  },
  {
   "cell_type": "code",
   "execution_count": 15,
   "id": "9f6fa5f5",
   "metadata": {},
   "outputs": [
    {
     "data": {
      "image/png": "[encoded data removed]",
      "text/plain": [
       "<Figure size 3000x1500 with 1 Axes>"
      ]
     },
     "metadata": {},
     "output_type": "display_data"
    }
   ],
   "source": [
    "plt.figure(figsize=(30,15))\n",
    "movieDistribution = sbn.countplot(data=df, x = \"Year\")\n",
    "movieDistribution.bar_label(movieDistribution.containers[0])\n",
    "plt.title(\"Movie Distribution\")\n",
    "plt.show()"
   ]
  },
  {
   "cell_type": "code",
   "execution_count": null,
   "id": "c6b22539",
   "metadata": {},
   "outputs": [],
   "source": [
    "gb = df.groupby(\"Year\").agg({})"
   ]
  }
 ],
 "metadata": {
  "kernelspec": {
   "display_name": "base",
   "language": "python",
   "name": "python3"
  },
  "language_info": {
   "codemirror_mode": {
    "name": "ipython",
    "version": 3
   },
   "file_extension": ".py",
   "mimetype": "text/x-python",
   "name": "python",
   "nbconvert_exporter": "python",
   "pygments_lexer": "ipython3",
   "version": "3.12.7"
  }
 },
 "nbformat": 4,
 "nbformat_minor": 5
}
